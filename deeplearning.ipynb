{
 "cells": [
  {
   "cell_type": "markdown",
   "metadata": {},
   "source": [
    "## 神经网络怎么工作的"
   ]
  },
  {
   "cell_type": "code",
   "execution_count": 90,
   "metadata": {},
   "outputs": [
    {
     "name": "stdout",
     "output_type": "stream",
     "text": [
      "Python 3.10.9\n",
      "Looking in indexes: https://pypi.tuna.tsinghua.edu.cn/simple\n",
      "Requirement already satisfied: ipywidgets in /home/inksnow/.pyenv/versions/3.10.9/lib/python3.10/site-packages (8.1.5)\n",
      "Requirement already satisfied: comm>=0.1.3 in /home/inksnow/.pyenv/versions/3.10.9/lib/python3.10/site-packages (from ipywidgets) (0.2.2)\n",
      "Requirement already satisfied: ipython>=6.1.0 in /home/inksnow/.pyenv/versions/3.10.9/lib/python3.10/site-packages (from ipywidgets) (8.34.0)\n",
      "Requirement already satisfied: traitlets>=4.3.1 in /home/inksnow/.pyenv/versions/3.10.9/lib/python3.10/site-packages (from ipywidgets) (5.14.3)\n",
      "Requirement already satisfied: widgetsnbextension~=4.0.12 in /home/inksnow/.pyenv/versions/3.10.9/lib/python3.10/site-packages (from ipywidgets) (4.0.13)\n",
      "Requirement already satisfied: jupyterlab-widgets~=3.0.12 in /home/inksnow/.pyenv/versions/3.10.9/lib/python3.10/site-packages (from ipywidgets) (3.0.13)\n",
      "Requirement already satisfied: decorator in /home/inksnow/.pyenv/versions/3.10.9/lib/python3.10/site-packages (from ipython>=6.1.0->ipywidgets) (5.2.1)\n",
      "Requirement already satisfied: exceptiongroup in /home/inksnow/.pyenv/versions/3.10.9/lib/python3.10/site-packages (from ipython>=6.1.0->ipywidgets) (1.2.2)\n",
      "Requirement already satisfied: jedi>=0.16 in /home/inksnow/.pyenv/versions/3.10.9/lib/python3.10/site-packages (from ipython>=6.1.0->ipywidgets) (0.19.2)\n",
      "Requirement already satisfied: matplotlib-inline in /home/inksnow/.pyenv/versions/3.10.9/lib/python3.10/site-packages (from ipython>=6.1.0->ipywidgets) (0.1.7)\n",
      "Requirement already satisfied: pexpect>4.3 in /home/inksnow/.pyenv/versions/3.10.9/lib/python3.10/site-packages (from ipython>=6.1.0->ipywidgets) (4.9.0)\n",
      "Requirement already satisfied: prompt_toolkit<3.1.0,>=3.0.41 in /home/inksnow/.pyenv/versions/3.10.9/lib/python3.10/site-packages (from ipython>=6.1.0->ipywidgets) (3.0.50)\n",
      "Requirement already satisfied: pygments>=2.4.0 in /home/inksnow/.pyenv/versions/3.10.9/lib/python3.10/site-packages (from ipython>=6.1.0->ipywidgets) (2.19.1)\n",
      "Requirement already satisfied: stack_data in /home/inksnow/.pyenv/versions/3.10.9/lib/python3.10/site-packages (from ipython>=6.1.0->ipywidgets) (0.6.3)\n",
      "Requirement already satisfied: typing_extensions>=4.6 in /home/inksnow/.pyenv/versions/3.10.9/lib/python3.10/site-packages (from ipython>=6.1.0->ipywidgets) (4.12.2)\n",
      "Requirement already satisfied: parso<0.9.0,>=0.8.4 in /home/inksnow/.pyenv/versions/3.10.9/lib/python3.10/site-packages (from jedi>=0.16->ipython>=6.1.0->ipywidgets) (0.8.4)\n",
      "Requirement already satisfied: ptyprocess>=0.5 in /home/inksnow/.pyenv/versions/3.10.9/lib/python3.10/site-packages (from pexpect>4.3->ipython>=6.1.0->ipywidgets) (0.7.0)\n",
      "Requirement already satisfied: wcwidth in /home/inksnow/.pyenv/versions/3.10.9/lib/python3.10/site-packages (from prompt_toolkit<3.1.0,>=3.0.41->ipython>=6.1.0->ipywidgets) (0.2.13)\n",
      "Requirement already satisfied: executing>=1.2.0 in /home/inksnow/.pyenv/versions/3.10.9/lib/python3.10/site-packages (from stack_data->ipython>=6.1.0->ipywidgets) (2.2.0)\n",
      "Requirement already satisfied: asttokens>=2.1.0 in /home/inksnow/.pyenv/versions/3.10.9/lib/python3.10/site-packages (from stack_data->ipython>=6.1.0->ipywidgets) (3.0.0)\n",
      "Requirement already satisfied: pure-eval in /home/inksnow/.pyenv/versions/3.10.9/lib/python3.10/site-packages (from stack_data->ipython>=6.1.0->ipywidgets) (0.2.3)\n",
      "Note: you may need to restart the kernel to use updated packages.\n",
      "Looking in indexes: https://pypi.tuna.tsinghua.edu.cn/simple\n",
      "Requirement already satisfied: matplotlib in /home/inksnow/.pyenv/versions/3.10.9/lib/python3.10/site-packages (3.10.1)\n",
      "Requirement already satisfied: contourpy>=1.0.1 in /home/inksnow/.pyenv/versions/3.10.9/lib/python3.10/site-packages (from matplotlib) (1.3.1)\n",
      "Requirement already satisfied: cycler>=0.10 in /home/inksnow/.pyenv/versions/3.10.9/lib/python3.10/site-packages (from matplotlib) (0.12.1)\n",
      "Requirement already satisfied: fonttools>=4.22.0 in /home/inksnow/.pyenv/versions/3.10.9/lib/python3.10/site-packages (from matplotlib) (4.56.0)\n",
      "Requirement already satisfied: kiwisolver>=1.3.1 in /home/inksnow/.pyenv/versions/3.10.9/lib/python3.10/site-packages (from matplotlib) (1.4.8)\n",
      "Requirement already satisfied: numpy>=1.23 in /home/inksnow/.pyenv/versions/3.10.9/lib/python3.10/site-packages (from matplotlib) (2.2.3)\n",
      "Requirement already satisfied: packaging>=20.0 in /home/inksnow/.pyenv/versions/3.10.9/lib/python3.10/site-packages (from matplotlib) (24.2)\n",
      "Requirement already satisfied: pillow>=8 in /home/inksnow/.pyenv/versions/3.10.9/lib/python3.10/site-packages (from matplotlib) (11.1.0)\n",
      "Requirement already satisfied: pyparsing>=2.3.1 in /home/inksnow/.pyenv/versions/3.10.9/lib/python3.10/site-packages (from matplotlib) (3.2.1)\n",
      "Requirement already satisfied: python-dateutil>=2.7 in /home/inksnow/.pyenv/versions/3.10.9/lib/python3.10/site-packages (from matplotlib) (2.9.0.post0)\n",
      "Requirement already satisfied: six>=1.5 in /home/inksnow/.pyenv/versions/3.10.9/lib/python3.10/site-packages (from python-dateutil>=2.7->matplotlib) (1.17.0)\n",
      "Note: you may need to restart the kernel to use updated packages.\n",
      "Looking in indexes: https://pypi.tuna.tsinghua.edu.cn/simple\n",
      "Requirement already satisfied: numpy in /home/inksnow/.pyenv/versions/3.10.9/lib/python3.10/site-packages (2.2.3)\n",
      "Note: you may need to restart the kernel to use updated packages.\n",
      "Looking in indexes: https://pypi.tuna.tsinghua.edu.cn/simple\n",
      "Requirement already satisfied: fastai in /home/inksnow/.pyenv/versions/3.10.9/lib/python3.10/site-packages (2.7.19)\n",
      "Requirement already satisfied: pip in /home/inksnow/.pyenv/versions/3.10.9/lib/python3.10/site-packages (from fastai) (25.0.1)\n",
      "Requirement already satisfied: packaging in /home/inksnow/.pyenv/versions/3.10.9/lib/python3.10/site-packages (from fastai) (24.2)\n",
      "Requirement already satisfied: fastdownload<2,>=0.0.5 in /home/inksnow/.pyenv/versions/3.10.9/lib/python3.10/site-packages (from fastai) (0.0.7)\n",
      "Requirement already satisfied: fastcore<1.8,>=1.5.29 in /home/inksnow/.pyenv/versions/3.10.9/lib/python3.10/site-packages (from fastai) (1.7.29)\n",
      "Requirement already satisfied: torchvision>=0.11 in /home/inksnow/.pyenv/versions/3.10.9/lib/python3.10/site-packages (from fastai) (0.21.0)\n",
      "Requirement already satisfied: matplotlib in /home/inksnow/.pyenv/versions/3.10.9/lib/python3.10/site-packages (from fastai) (3.10.1)\n",
      "Requirement already satisfied: pandas in /home/inksnow/.pyenv/versions/3.10.9/lib/python3.10/site-packages (from fastai) (2.2.3)\n",
      "Requirement already satisfied: requests in /home/inksnow/.pyenv/versions/3.10.9/lib/python3.10/site-packages (from fastai) (2.32.3)\n",
      "Requirement already satisfied: pyyaml in /home/inksnow/.pyenv/versions/3.10.9/lib/python3.10/site-packages (from fastai) (6.0.2)\n",
      "Requirement already satisfied: fastprogress>=0.2.4 in /home/inksnow/.pyenv/versions/3.10.9/lib/python3.10/site-packages (from fastai) (1.0.3)\n",
      "Requirement already satisfied: pillow>=9.0.0 in /home/inksnow/.pyenv/versions/3.10.9/lib/python3.10/site-packages (from fastai) (11.1.0)\n",
      "Requirement already satisfied: scikit-learn in /home/inksnow/.pyenv/versions/3.10.9/lib/python3.10/site-packages (from fastai) (1.6.1)\n",
      "Requirement already satisfied: scipy in /home/inksnow/.pyenv/versions/3.10.9/lib/python3.10/site-packages (from fastai) (1.15.2)\n",
      "Requirement already satisfied: spacy<4 in /home/inksnow/.pyenv/versions/3.10.9/lib/python3.10/site-packages (from fastai) (3.8.4)\n",
      "Requirement already satisfied: torch<2.7,>=1.10 in /home/inksnow/.pyenv/versions/3.10.9/lib/python3.10/site-packages (from fastai) (2.6.0)\n",
      "Requirement already satisfied: spacy-legacy<3.1.0,>=3.0.11 in /home/inksnow/.pyenv/versions/3.10.9/lib/python3.10/site-packages (from spacy<4->fastai) (3.0.12)\n",
      "Requirement already satisfied: spacy-loggers<2.0.0,>=1.0.0 in /home/inksnow/.pyenv/versions/3.10.9/lib/python3.10/site-packages (from spacy<4->fastai) (1.0.5)\n",
      "Requirement already satisfied: murmurhash<1.1.0,>=0.28.0 in /home/inksnow/.pyenv/versions/3.10.9/lib/python3.10/site-packages (from spacy<4->fastai) (1.0.12)\n",
      "Requirement already satisfied: cymem<2.1.0,>=2.0.2 in /home/inksnow/.pyenv/versions/3.10.9/lib/python3.10/site-packages (from spacy<4->fastai) (2.0.11)\n",
      "Requirement already satisfied: preshed<3.1.0,>=3.0.2 in /home/inksnow/.pyenv/versions/3.10.9/lib/python3.10/site-packages (from spacy<4->fastai) (3.0.9)\n",
      "Requirement already satisfied: thinc<8.4.0,>=8.3.4 in /home/inksnow/.pyenv/versions/3.10.9/lib/python3.10/site-packages (from spacy<4->fastai) (8.3.4)\n",
      "Requirement already satisfied: wasabi<1.2.0,>=0.9.1 in /home/inksnow/.pyenv/versions/3.10.9/lib/python3.10/site-packages (from spacy<4->fastai) (1.1.3)\n",
      "Requirement already satisfied: srsly<3.0.0,>=2.4.3 in /home/inksnow/.pyenv/versions/3.10.9/lib/python3.10/site-packages (from spacy<4->fastai) (2.5.1)\n",
      "Requirement already satisfied: catalogue<2.1.0,>=2.0.6 in /home/inksnow/.pyenv/versions/3.10.9/lib/python3.10/site-packages (from spacy<4->fastai) (2.0.10)\n",
      "Requirement already satisfied: weasel<0.5.0,>=0.1.0 in /home/inksnow/.pyenv/versions/3.10.9/lib/python3.10/site-packages (from spacy<4->fastai) (0.4.1)\n",
      "Requirement already satisfied: typer<1.0.0,>=0.3.0 in /home/inksnow/.pyenv/versions/3.10.9/lib/python3.10/site-packages (from spacy<4->fastai) (0.15.2)\n",
      "Requirement already satisfied: tqdm<5.0.0,>=4.38.0 in /home/inksnow/.pyenv/versions/3.10.9/lib/python3.10/site-packages (from spacy<4->fastai) (4.67.1)\n",
      "Requirement already satisfied: numpy>=1.19.0 in /home/inksnow/.pyenv/versions/3.10.9/lib/python3.10/site-packages (from spacy<4->fastai) (2.2.3)\n",
      "Requirement already satisfied: pydantic!=1.8,!=1.8.1,<3.0.0,>=1.7.4 in /home/inksnow/.pyenv/versions/3.10.9/lib/python3.10/site-packages (from spacy<4->fastai) (2.10.6)\n",
      "Requirement already satisfied: jinja2 in /home/inksnow/.pyenv/versions/3.10.9/lib/python3.10/site-packages (from spacy<4->fastai) (3.1.6)\n",
      "Requirement already satisfied: setuptools in /home/inksnow/.pyenv/versions/3.10.9/lib/python3.10/site-packages (from spacy<4->fastai) (65.5.0)\n",
      "Requirement already satisfied: langcodes<4.0.0,>=3.2.0 in /home/inksnow/.pyenv/versions/3.10.9/lib/python3.10/site-packages (from spacy<4->fastai) (3.5.0)\n",
      "Requirement already satisfied: charset-normalizer<4,>=2 in /home/inksnow/.pyenv/versions/3.10.9/lib/python3.10/site-packages (from requests->fastai) (3.4.1)\n",
      "Requirement already satisfied: idna<4,>=2.5 in /home/inksnow/.pyenv/versions/3.10.9/lib/python3.10/site-packages (from requests->fastai) (3.10)\n",
      "Requirement already satisfied: urllib3<3,>=1.21.1 in /home/inksnow/.pyenv/versions/3.10.9/lib/python3.10/site-packages (from requests->fastai) (2.3.0)\n",
      "Requirement already satisfied: certifi>=2017.4.17 in /home/inksnow/.pyenv/versions/3.10.9/lib/python3.10/site-packages (from requests->fastai) (2025.1.31)\n",
      "Requirement already satisfied: filelock in /home/inksnow/.pyenv/versions/3.10.9/lib/python3.10/site-packages (from torch<2.7,>=1.10->fastai) (3.18.0)\n",
      "Requirement already satisfied: typing-extensions>=4.10.0 in /home/inksnow/.pyenv/versions/3.10.9/lib/python3.10/site-packages (from torch<2.7,>=1.10->fastai) (4.12.2)\n",
      "Requirement already satisfied: networkx in /home/inksnow/.pyenv/versions/3.10.9/lib/python3.10/site-packages (from torch<2.7,>=1.10->fastai) (3.4.2)\n",
      "Requirement already satisfied: fsspec in /home/inksnow/.pyenv/versions/3.10.9/lib/python3.10/site-packages (from torch<2.7,>=1.10->fastai) (2025.3.0)\n",
      "Requirement already satisfied: nvidia-cuda-nvrtc-cu12==12.4.127 in /home/inksnow/.pyenv/versions/3.10.9/lib/python3.10/site-packages (from torch<2.7,>=1.10->fastai) (12.4.127)\n",
      "Requirement already satisfied: nvidia-cuda-runtime-cu12==12.4.127 in /home/inksnow/.pyenv/versions/3.10.9/lib/python3.10/site-packages (from torch<2.7,>=1.10->fastai) (12.4.127)\n",
      "Requirement already satisfied: nvidia-cuda-cupti-cu12==12.4.127 in /home/inksnow/.pyenv/versions/3.10.9/lib/python3.10/site-packages (from torch<2.7,>=1.10->fastai) (12.4.127)\n",
      "Requirement already satisfied: nvidia-cudnn-cu12==9.1.0.70 in /home/inksnow/.pyenv/versions/3.10.9/lib/python3.10/site-packages (from torch<2.7,>=1.10->fastai) (9.1.0.70)\n",
      "Requirement already satisfied: nvidia-cublas-cu12==12.4.5.8 in /home/inksnow/.pyenv/versions/3.10.9/lib/python3.10/site-packages (from torch<2.7,>=1.10->fastai) (12.4.5.8)\n",
      "Requirement already satisfied: nvidia-cufft-cu12==11.2.1.3 in /home/inksnow/.pyenv/versions/3.10.9/lib/python3.10/site-packages (from torch<2.7,>=1.10->fastai) (11.2.1.3)\n",
      "Requirement already satisfied: nvidia-curand-cu12==10.3.5.147 in /home/inksnow/.pyenv/versions/3.10.9/lib/python3.10/site-packages (from torch<2.7,>=1.10->fastai) (10.3.5.147)\n",
      "Requirement already satisfied: nvidia-cusolver-cu12==11.6.1.9 in /home/inksnow/.pyenv/versions/3.10.9/lib/python3.10/site-packages (from torch<2.7,>=1.10->fastai) (11.6.1.9)\n",
      "Requirement already satisfied: nvidia-cusparse-cu12==12.3.1.170 in /home/inksnow/.pyenv/versions/3.10.9/lib/python3.10/site-packages (from torch<2.7,>=1.10->fastai) (12.3.1.170)\n",
      "Requirement already satisfied: nvidia-cusparselt-cu12==0.6.2 in /home/inksnow/.pyenv/versions/3.10.9/lib/python3.10/site-packages (from torch<2.7,>=1.10->fastai) (0.6.2)\n",
      "Requirement already satisfied: nvidia-nccl-cu12==2.21.5 in /home/inksnow/.pyenv/versions/3.10.9/lib/python3.10/site-packages (from torch<2.7,>=1.10->fastai) (2.21.5)\n",
      "Requirement already satisfied: nvidia-nvtx-cu12==12.4.127 in /home/inksnow/.pyenv/versions/3.10.9/lib/python3.10/site-packages (from torch<2.7,>=1.10->fastai) (12.4.127)\n",
      "Requirement already satisfied: nvidia-nvjitlink-cu12==12.4.127 in /home/inksnow/.pyenv/versions/3.10.9/lib/python3.10/site-packages (from torch<2.7,>=1.10->fastai) (12.4.127)\n",
      "Requirement already satisfied: triton==3.2.0 in /home/inksnow/.pyenv/versions/3.10.9/lib/python3.10/site-packages (from torch<2.7,>=1.10->fastai) (3.2.0)\n",
      "Requirement already satisfied: sympy==1.13.1 in /home/inksnow/.pyenv/versions/3.10.9/lib/python3.10/site-packages (from torch<2.7,>=1.10->fastai) (1.13.1)\n",
      "Requirement already satisfied: mpmath<1.4,>=1.1.0 in /home/inksnow/.pyenv/versions/3.10.9/lib/python3.10/site-packages (from sympy==1.13.1->torch<2.7,>=1.10->fastai) (1.3.0)\n",
      "Requirement already satisfied: contourpy>=1.0.1 in /home/inksnow/.pyenv/versions/3.10.9/lib/python3.10/site-packages (from matplotlib->fastai) (1.3.1)\n",
      "Requirement already satisfied: cycler>=0.10 in /home/inksnow/.pyenv/versions/3.10.9/lib/python3.10/site-packages (from matplotlib->fastai) (0.12.1)\n",
      "Requirement already satisfied: fonttools>=4.22.0 in /home/inksnow/.pyenv/versions/3.10.9/lib/python3.10/site-packages (from matplotlib->fastai) (4.56.0)\n",
      "Requirement already satisfied: kiwisolver>=1.3.1 in /home/inksnow/.pyenv/versions/3.10.9/lib/python3.10/site-packages (from matplotlib->fastai) (1.4.8)\n",
      "Requirement already satisfied: pyparsing>=2.3.1 in /home/inksnow/.pyenv/versions/3.10.9/lib/python3.10/site-packages (from matplotlib->fastai) (3.2.1)\n",
      "Requirement already satisfied: python-dateutil>=2.7 in /home/inksnow/.pyenv/versions/3.10.9/lib/python3.10/site-packages (from matplotlib->fastai) (2.9.0.post0)\n",
      "Requirement already satisfied: pytz>=2020.1 in /home/inksnow/.pyenv/versions/3.10.9/lib/python3.10/site-packages (from pandas->fastai) (2025.1)\n",
      "Requirement already satisfied: tzdata>=2022.7 in /home/inksnow/.pyenv/versions/3.10.9/lib/python3.10/site-packages (from pandas->fastai) (2025.1)\n",
      "Requirement already satisfied: joblib>=1.2.0 in /home/inksnow/.pyenv/versions/3.10.9/lib/python3.10/site-packages (from scikit-learn->fastai) (1.4.2)\n",
      "Requirement already satisfied: threadpoolctl>=3.1.0 in /home/inksnow/.pyenv/versions/3.10.9/lib/python3.10/site-packages (from scikit-learn->fastai) (3.6.0)\n",
      "Requirement already satisfied: language-data>=1.2 in /home/inksnow/.pyenv/versions/3.10.9/lib/python3.10/site-packages (from langcodes<4.0.0,>=3.2.0->spacy<4->fastai) (1.3.0)\n",
      "Requirement already satisfied: annotated-types>=0.6.0 in /home/inksnow/.pyenv/versions/3.10.9/lib/python3.10/site-packages (from pydantic!=1.8,!=1.8.1,<3.0.0,>=1.7.4->spacy<4->fastai) (0.7.0)\n",
      "Requirement already satisfied: pydantic-core==2.27.2 in /home/inksnow/.pyenv/versions/3.10.9/lib/python3.10/site-packages (from pydantic!=1.8,!=1.8.1,<3.0.0,>=1.7.4->spacy<4->fastai) (2.27.2)\n",
      "Requirement already satisfied: six>=1.5 in /home/inksnow/.pyenv/versions/3.10.9/lib/python3.10/site-packages (from python-dateutil>=2.7->matplotlib->fastai) (1.17.0)\n",
      "Requirement already satisfied: blis<1.3.0,>=1.2.0 in /home/inksnow/.pyenv/versions/3.10.9/lib/python3.10/site-packages (from thinc<8.4.0,>=8.3.4->spacy<4->fastai) (1.2.0)\n",
      "Requirement already satisfied: confection<1.0.0,>=0.0.1 in /home/inksnow/.pyenv/versions/3.10.9/lib/python3.10/site-packages (from thinc<8.4.0,>=8.3.4->spacy<4->fastai) (0.1.5)\n",
      "Requirement already satisfied: click>=8.0.0 in /home/inksnow/.pyenv/versions/3.10.9/lib/python3.10/site-packages (from typer<1.0.0,>=0.3.0->spacy<4->fastai) (8.1.8)\n",
      "Requirement already satisfied: shellingham>=1.3.0 in /home/inksnow/.pyenv/versions/3.10.9/lib/python3.10/site-packages (from typer<1.0.0,>=0.3.0->spacy<4->fastai) (1.5.4)\n",
      "Requirement already satisfied: rich>=10.11.0 in /home/inksnow/.pyenv/versions/3.10.9/lib/python3.10/site-packages (from typer<1.0.0,>=0.3.0->spacy<4->fastai) (13.9.4)\n",
      "Requirement already satisfied: cloudpathlib<1.0.0,>=0.7.0 in /home/inksnow/.pyenv/versions/3.10.9/lib/python3.10/site-packages (from weasel<0.5.0,>=0.1.0->spacy<4->fastai) (0.21.0)\n",
      "Requirement already satisfied: smart-open<8.0.0,>=5.2.1 in /home/inksnow/.pyenv/versions/3.10.9/lib/python3.10/site-packages (from weasel<0.5.0,>=0.1.0->spacy<4->fastai) (7.1.0)\n",
      "Requirement already satisfied: MarkupSafe>=2.0 in /home/inksnow/.pyenv/versions/3.10.9/lib/python3.10/site-packages (from jinja2->spacy<4->fastai) (3.0.2)\n",
      "Requirement already satisfied: marisa-trie>=1.1.0 in /home/inksnow/.pyenv/versions/3.10.9/lib/python3.10/site-packages (from language-data>=1.2->langcodes<4.0.0,>=3.2.0->spacy<4->fastai) (1.2.1)\n",
      "Requirement already satisfied: markdown-it-py>=2.2.0 in /home/inksnow/.pyenv/versions/3.10.9/lib/python3.10/site-packages (from rich>=10.11.0->typer<1.0.0,>=0.3.0->spacy<4->fastai) (3.0.0)\n",
      "Requirement already satisfied: pygments<3.0.0,>=2.13.0 in /home/inksnow/.pyenv/versions/3.10.9/lib/python3.10/site-packages (from rich>=10.11.0->typer<1.0.0,>=0.3.0->spacy<4->fastai) (2.19.1)\n",
      "Requirement already satisfied: wrapt in /home/inksnow/.pyenv/versions/3.10.9/lib/python3.10/site-packages (from smart-open<8.0.0,>=5.2.1->weasel<0.5.0,>=0.1.0->spacy<4->fastai) (1.17.2)\n",
      "Requirement already satisfied: mdurl~=0.1 in /home/inksnow/.pyenv/versions/3.10.9/lib/python3.10/site-packages (from markdown-it-py>=2.2.0->rich>=10.11.0->typer<1.0.0,>=0.3.0->spacy<4->fastai) (0.1.2)\n",
      "Note: you may need to restart the kernel to use updated packages.\n"
     ]
    }
   ],
   "source": [
    "!python --version\n",
    "%pip install ipywidgets\n",
    "%pip install matplotlib\n",
    "%pip install numpy\n",
    "%pip install fastai"
   ]
  },
  {
   "cell_type": "code",
   "execution_count": 91,
   "metadata": {},
   "outputs": [],
   "source": [
    "from ipywidgets import interact\n",
    "from fastai.basics import *\n",
    "\n",
    "# 设置所有图形的默认 DPI（每英寸点数）为 90。\n",
    "plt.rc('figure', dpi=90)\n",
    "# 一个绘制函数的简单包装器，用于在交互式小部件中绘制函数。\n",
    "def plot_function(f, title=None, min=-2.1, max=2.1, color='r', ylim=None):\n",
    "    x = torch.linspace(min,max, 100)[:,None]\n",
    "    if ylim: plt.ylim(ylim)\n",
    "    plt.plot(x, f(x), color)\n",
    "    if title is not None: plt.title(title) # 如果标题不是空的，就设置标题。"
   ]
  },
  {
   "cell_type": "markdown",
   "metadata": {},
   "source": [
    "### 首先展示一个 一元二次方程"
   ]
  },
  {
   "cell_type": "code",
   "execution_count": 92,
   "metadata": {},
   "outputs": [
    {
     "data": {
      "image/png": "[encoded data removed]",
      "text/plain": [
       "<Figure size 576x432 with 1 Axes>"
      ]
     },
     "metadata": {},
     "output_type": "display_data"
    }
   ],
   "source": [
    "def f(x): return 3*x**2+ 4*x+ 1\n",
    "\n",
    "plot_function(f, '3x^2+4x+1')"
   ]
  },
  {
   "cell_type": "code",
   "execution_count": 93,
   "metadata": {},
   "outputs": [
    {
     "data": {
      "image/png": "[encoded data removed]",
      "text/plain": [
       "<Figure size 576x432 with 1 Axes>"
      ]
     },
     "metadata": {},
     "output_type": "display_data"
    }
   ],
   "source": [
    "def quad(a, b, c, x): return a*x**2 + b*x + c\n",
    "# 专门生成一个二次函数的函数。\n",
    "def mk_quad(a,b,c): return partial(quad, a,b,c)\n",
    "f2 = mk_quad(3,2,1)\n",
    "plot_function(f2)"
   ]
  },
  {
   "cell_type": "code",
   "execution_count": 94,
   "metadata": {},
   "outputs": [],
   "source": [
    "# 生成一些随机数据，也叫做噪声\n",
    "def noise(x, scale): return np.random.normal(scale=scale, size=x.shape)\n",
    "# 对输入的x加入乘性噪声和加性噪声 模拟显示中的常见噪声，说明白了就是模拟显示数据的不确定性\n",
    "def add_noise(x, mult, add): return x * (1+noise(x,mult)) + noise(x,add)"
   ]
  },
  {
   "cell_type": "code",
   "execution_count": 95,
   "metadata": {},
   "outputs": [
    {
     "name": "stdout",
     "output_type": "stream",
     "text": [
      "torch.Size([20, 1]) torch.Size([20, 1])\n"
     ]
    },
    {
     "name": "stderr",
     "output_type": "stream",
     "text": [
      "/tmp/ipykernel_1037/1462939656.py:4: DeprecationWarning: __array_wrap__ must accept context and return_scalar arguments (positionally) in the future. (Deprecated NumPy 2.0)\n",
      "  def add_noise(x, mult, add): return x * (1+noise(x,mult)) + noise(x,add)\n"
     ]
    }
   ],
   "source": [
    "\"\"\"\n",
    "作用：设置 NumPy 的随机数种子为 42。\n",
    "效果：确保每次运行时，np.random.normal 生成的随机数序列是固定的、可重复的。这对调试或实验重现非常有用。\n",
    "影响：后续调用 noise 函数时，生成的噪声将是确定的。\n",
    "\"\"\"\n",
    "np.random.seed(42)\n",
    "\n",
    "x = torch.linspace(-2, 2, steps=20)[:,None]\n",
    "y = add_noise(f(x), 0.15, 1.5)\n",
    "print(x.shape, y.shape)"
   ]
  },
  {
   "cell_type": "code",
   "execution_count": 96,
   "metadata": {},
   "outputs": [
    {
     "data": {
      "application/vnd.jupyter.widget-view+json": {
       "model_id": "4a594f312bf84b7d80b1a5cd54bb6cee",
       "version_major": 2,
       "version_minor": 0
      },
      "text/plain": [
       "interactive(children=(FloatSlider(value=1.1, description='a', max=3.3000000000000003, min=-1.1), FloatSlider(v…"
      ]
     },
     "metadata": {},
     "output_type": "display_data"
    }
   ],
   "source": [
    "# 移动滑块，让图像越来越满足这个数据的分布，这就像是在训练模型，让模型逐渐拟合数据。\n",
    "@interact(a=1.1, b=1.1, c=1.1)  #\n",
    "def plot_quad(a, b, c):\n",
    "    plt.scatter(x,y)\n",
    "    plot_function(mk_quad(a,b,c), ylim=(-3,13))\n",
    "\n"
   ]
  },
  {
   "cell_type": "code",
   "execution_count": 97,
   "metadata": {},
   "outputs": [
    {
     "data": {
      "application/vnd.jupyter.widget-view+json": {
       "model_id": "15f0297b0c6f4a9d8d5a8eb05c90093a",
       "version_major": 2,
       "version_minor": 0
      },
      "text/plain": [
       "interactive(children=(FloatSlider(value=1.1, description='a', max=3.3000000000000003, min=-1.1), FloatSlider(v…"
      ]
     },
     "metadata": {},
     "output_type": "display_data"
    }
   ],
   "source": [
    "# 如何衡量足够拟合曲线了呢？\n",
    "# 一个方式是计算预测值和真实值之间的差异，然后求平均值。\n",
    "def mae(preds, acts): return (torch.abs(preds-acts)).mean()\n",
    "\n",
    "@interact(a=1.1, b=1.1, c=1.1)\n",
    "def plot_quad(a, b, c):\n",
    "    f = mk_quad(a,b,c)\n",
    "    plt.scatter(x,y)\n",
    "    loss = mae(f(x), y)\n",
    "    plot_function(f, ylim=(-3,12), title=f\"MAE: {loss:.2f}\")"
   ]
  },
  {
   "cell_type": "code",
   "execution_count": null,
   "metadata": {},
   "outputs": [
    {
     "name": "stdout",
     "output_type": "stream",
     "text": [
      "torch.Size([20, 1]) torch.Size([20, 1])\n"
     ]
    },
    {
     "data": {
      "text/plain": [
       "tensor(5.2035, dtype=torch.float64)"
      ]
     },
     "execution_count": 98,
     "metadata": {},
     "output_type": "execute_result"
    }
   ],
   "source": [
    "\"\"\"\n",
    "    MSE 是 Mean Squared Error（均方误差）的缩写。它是一个用来衡量预测值和实际值之间差异的指标，广泛用于回归任务（比如预测房价、温度等连续值）。\n",
    "\n",
    "    定义：\n",
    "    MSE 计算的是预测值（preds）和实际值（acts）之间差值的平方的平均值。\n",
    "    MSE 的作用是量化误差的大小，帮助我们评估模型预测的准确性：\n",
    "\n",
    "    如果 MSE 很小，说明预测值和实际值很接近，模型表现好。\n",
    "    如果 MSE 很大，说明误差大，模型需要改进。\n",
    "\"\"\"\n",
    "def mse(preds, acts):\n",
    "    return ((preds - acts) ** 2).mean()\n",
    "\"\"\"\n",
    "用参数 params 定义的二次函数 f(x) 预测 x，然后和真实值 y 对比，算出的平均平方误差。\n",
    "输出是一个损失值（loss），用来衡量预测值和真实值之间的差异。\n",
    "告诉你这条抛物线拟合数据的“偏差程度”，值越小越好。\n",
    "\"\"\"\n",
    "def quad_mse(params):\n",
    "    f = mk_quad(*params)\n",
    "    return mse(f(x), y)\n",
    "\n",
    "\n",
    "print(x.shape,y.shape)\n",
    "quad_mse([1.5, 1.5, 1.5])"
   ]
  },
  {
   "cell_type": "code",
   "execution_count": 112,
   "metadata": {},
   "outputs": [],
   "source": [
    "abc = torch.tensor([1.5, 1.5, 1.5]).requires_grad_()"
   ]
  },
  {
   "cell_type": "code",
   "execution_count": 113,
   "metadata": {},
   "outputs": [
    {
     "data": {
      "text/plain": [
       "tensor(8.3700, dtype=torch.float64, grad_fn=<MeanBackward0>)"
      ]
     },
     "execution_count": 113,
     "metadata": {},
     "output_type": "execute_result"
    }
   ],
   "source": [
    "loss = quad_mse(abc)\n",
    "loss"
   ]
  },
  {
   "cell_type": "code",
   "execution_count": 107,
   "metadata": {},
   "outputs": [],
   "source": [
    "loss.backward()  # 自动计算梯度\n"
   ]
  },
  {
   "cell_type": "code",
   "execution_count": 109,
   "metadata": {},
   "outputs": [
    {
     "data": {
      "text/plain": [
       "tensor([-6.1684, -4.6402, -1.4438])"
      ]
     },
     "execution_count": 109,
     "metadata": {},
     "output_type": "execute_result"
    }
   ],
   "source": [
    "\n",
    "\n",
    "\"\"\"\n",
    "    梯度下降是一种优化算法，用来找到一个函数的最小值。在我们的例子中，这个函数是 quad_mse，也就是预测值和真实值之间的均方误差。\n",
    "\n",
    "    梯度下降的基本思想是：\n",
    "\n",
    "    从一个随机的起始点开始（比如 abc = [1.5, 2.5, 1.5]）。\n",
    "    计算函数在这个点的梯度（也就是函数变化最快的方向）。\n",
    "    沿着梯度的反方向，移动一小步（比如 0.1 的步长）。\n",
    "    重复这个过程，直到找到函数的最小值。\n",
    "\"\"\"\n",
    "\"\"\"\n",
    "    梯度 输出会是一个tensor  里面的值是梯度\n",
    "    他告诉我我们，如何增加abc的值，损失会下降对应的梯度值\n",
    "    比如 但当前单元格输出是tensor([-xxx,  -xxx2  -xxx3])\n",
    "    那么如果a+1  b+1  c+1  损失相应会下降-xxx,  -xxx2  -xxx3\n",
    "\"\"\"\n",
    "abc.grad"
   ]
  },
  {
   "cell_type": "code",
   "execution_count": 110,
   "metadata": {},
   "outputs": [
    {
     "name": "stdout",
     "output_type": "stream",
     "text": [
      "loss = 4.29\n"
     ]
    }
   ],
   "source": [
    "with torch.no_grad():  # torch.no_grad()用来关闭梯度计算,如果不关闭梯度计算，那么每次计算都会记录梯度，会导致内存占用过多\n",
    "    abc -= 0.1 * abc.grad\n",
    "    loss = quad_mse(abc)\n",
    "print(f'loss = {loss:.2f}')"
   ]
  },
  {
   "cell_type": "code",
   "execution_count": null,
   "metadata": {},
   "outputs": [
    {
     "name": "stdout",
     "output_type": "stream",
     "text": [
      "step = 0;loss = 5.97\n",
      "step = 1;loss = 5.29\n",
      "step = 2;loss = 3.55\n",
      "step = 3;loss = 2.69\n",
      "step = 4;loss = 2.26\n"
     ]
    }
   ],
   "source": [
    "# 根据梯度 逐渐降低loss, 使得loss缩小\n",
    "for i in range(5):\n",
    "    loss = quad_mse(abc)\n",
    "    loss.backward()\n",
    "    with torch.no_grad():\n",
    "        abc -= (abc.grad * 0.1)\n",
    "        abc.grad.zero_()\n",
    "    print(f'step = {i};loss = {loss:.2f}')"
   ]
  },
  {
   "cell_type": "code",
   "execution_count": null,
   "metadata": {},
   "outputs": [
    {
     "data": {
      "text/plain": [
       "tensor([2.1617, 4.6988, 0.3504], requires_grad=True)"
      ]
     },
     "execution_count": 115,
     "metadata": {},
     "output_type": "execute_result"
    }
   ],
   "source": [
    "abc"
   ]
  },
  {
   "cell_type": "markdown",
   "metadata": {},
   "source": [
    "## 第二个部分"
   ]
  },
  {
   "cell_type": "code",
   "execution_count": 121,
   "metadata": {},
   "outputs": [],
   "source": [
    "#计算一条直线输出，直线的斜率是m，截距是b。且所有的y值都是大于0的，小于0的会被截取掉，变成0\n",
    "def rectified_linear(m,b,x):\n",
    "    y = m*x+b\n",
    "    return torch.clip(y,0.)"
   ]
  },
  {
   "cell_type": "code",
   "execution_count": null,
   "metadata": {},
   "outputs": [
    {
     "data": {
      "image/png": "[encoded data removed]",
      "text/plain": [
       "<Figure size 576x432 with 1 Axes>"
      ]
     },
     "metadata": {},
     "output_type": "display_data"
    }
   ],
   "source": [
    "# partial 函数用来创建一个新函数，这个新函数是 rectified_linear 的一个特例，其中 m=1，b=1。而x是一个变量，可以是任意值。\n",
    "plot_function(partial(rectified_linear, 1, 1))"
   ]
  },
  {
   "cell_type": "code",
   "execution_count": 123,
   "metadata": {},
   "outputs": [
    {
     "data": {
      "application/vnd.jupyter.widget-view+json": {
       "model_id": "709699e714324ce9899678d93829f675",
       "version_major": 2,
       "version_minor": 0
      },
      "text/plain": [
       "interactive(children=(FloatSlider(value=1.1, description='m', max=3.3000000000000003, min=-1.1), FloatSlider(v…"
      ]
     },
     "metadata": {},
     "output_type": "display_data"
    }
   ],
   "source": [
    "@interact(m=1.1, b=1.1)\n",
    "def plot_rect(m, b):\n",
    "\n",
    "    plot_function(partial(rectified_linear, m, b), ylim=(-1,4))"
   ]
  }
 ],
 "metadata": {
  "kernelspec": {
   "display_name": "3.10.9",
   "language": "python",
   "name": "python3"
  },
  "language_info": {
   "codemirror_mode": {
    "name": "ipython",
    "version": 3
   },
   "file_extension": ".py",
   "mimetype": "text/x-python",
   "name": "python",
   "nbconvert_exporter": "python",
   "pygments_lexer": "ipython3",
   "version": "3.10.9"
  }
 },
 "nbformat": 4,
 "nbformat_minor": 2
}
